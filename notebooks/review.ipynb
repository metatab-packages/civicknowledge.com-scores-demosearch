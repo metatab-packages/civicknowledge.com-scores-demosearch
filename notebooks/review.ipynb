{
 "cells": [
  {
   "cell_type": "code",
   "execution_count": 1,
   "metadata": {},
   "outputs": [],
   "source": [
    "import seaborn as sns\n",
    "import metapack as mp\n",
    "import pandas as pd\n",
    "import numpy as np\n",
    "import matplotlib.pyplot as plt\n",
    "from IPython.display import display \n",
    "\n",
    "%matplotlib inline\n",
    "sns.set_context('notebook')\n",
    "mp.jupyter.init()\n"
   ]
  },
  {
   "cell_type": "code",
   "execution_count": 2,
   "metadata": {},
   "outputs": [
    {
     "data": {
      "text/html": [
       "<h1>Demosearch Score Sample</h1>\n",
       "<p><code>civicknowledge.com-scores-demosearch-2.1.1</code> Last Update: 2021-09-29T02:40:33</p>\n",
       "<p><em>A sample of scores for businesses across the US for the Demosearch application.</em></p>\n",
       "<h2>Contacts</h2>\n",
       "<ul>\n",
       "<li><strong>Wrangler</strong> <a href=\"mailto:eric@civicknowledge.com\">Eric Busboom</a>, <a href=\"http://civicknowledge.com\">Civic Knowledge</a></li>\n",
       "</ul>\n",
       "<h2>Resources</h2>\n",
       "<ul>\n",
       "<li><strong> <a href=\"data/scores.csv\">scores</a></strong>. Sampled scores.</li>\n",
       "</ul>\n",
       "<h2>References</h2>\n",
       "<ul><li> <strong>scorepoints</string>, <em>metapack+http://radius.civicknowledge.com.s3.amazonaws.com/civicknowledge.com-scorepoints-demosearch.csv#business_points</em>. 500K Business points</li><li> <strong>rings_scores</string>, <em>data/rings_scores.csv</em>. Sample scores, weighted sum and rings</li><ul>"
      ],
      "text/plain": [
       "# Demosearch Score Sample\n",
       "`civicknowledge.com-scores-demosearch-2.1.1` Last Update: 2021-09-29T02:40:33\n",
       "\n",
       "_A sample of scores for businesses across the US for the Demosearch application._\n",
       "\n",
       "\n",
       "\n",
       "\n",
       " \n",
       "\n",
       "## Contacts\n",
       "\n",
       "* **Wrangler** [Eric Busboom](mailto:eric@civicknowledge.com), [Civic Knowledge](http://civicknowledge.com)\n",
       "\n",
       "## Resources\n",
       "\n",
       "* ** [scores](data/scores.csv)**. Sampled scores.\n",
       "\n",
       "## References\n",
       "<ul><li> <strong>scorepoints</string>, <em>metapack+http://radius.civicknowledge.com.s3.amazonaws.com/civicknowledge.com-scorepoints-demosearch.csv#business_points</em>. 500K Business points</li><li> <strong>rings_scores</string>, <em>data/rings_scores.csv</em>. Sample scores, weighted sum and rings</li><ul>\n"
      ]
     },
     "execution_count": 2,
     "metadata": {},
     "output_type": "execute_result"
    }
   ],
   "source": [
    "pkg = mp.jupyter.open_package()\n",
    "#pkg = mp.jupyter.open_source_package()\n",
    "pkg"
   ]
  },
  {
   "cell_type": "code",
   "execution_count": 3,
   "metadata": {},
   "outputs": [],
   "source": [
    "df = pkg.resource('scores').dataframe()"
   ]
  },
  {
   "cell_type": "code",
   "execution_count": 4,
   "metadata": {},
   "outputs": [
    {
     "data": {
      "text/html": [
       "<div>\n",
       "<style scoped>\n",
       "    .dataframe tbody tr th:only-of-type {\n",
       "        vertical-align: middle;\n",
       "    }\n",
       "\n",
       "    .dataframe tbody tr th {\n",
       "        vertical-align: top;\n",
       "    }\n",
       "\n",
       "    .dataframe thead th {\n",
       "        text-align: right;\n",
       "    }\n",
       "</style>\n",
       "<table border=\"1\" class=\"dataframe\">\n",
       "  <thead>\n",
       "    <tr style=\"text-align: right;\">\n",
       "      <th></th>\n",
       "      <th>idx</th>\n",
       "      <th>geoid</th>\n",
       "      <th>geometry</th>\n",
       "      <th>layer</th>\n",
       "      <th>w_r_inv</th>\n",
       "      <th>w_r2_inv</th>\n",
       "      <th>w_r3_inv</th>\n",
       "      <th>w_circle4</th>\n",
       "      <th>w_lin_200</th>\n",
       "      <th>w_lin_800</th>\n",
       "      <th>w_lin_2000</th>\n",
       "      <th>w_half</th>\n",
       "      <th>w_zero</th>\n",
       "    </tr>\n",
       "  </thead>\n",
       "  <tbody>\n",
       "    <tr>\n",
       "      <th>0</th>\n",
       "      <td>1334420</td>\n",
       "      <td>31000US10100</td>\n",
       "      <td>POINT (-98.453806 45.440505)</td>\n",
       "      <td>osmpoints/active</td>\n",
       "      <td>0.622906</td>\n",
       "      <td>0.035156</td>\n",
       "      <td>0.002070</td>\n",
       "      <td>0</td>\n",
       "      <td>0.0</td>\n",
       "      <td>0.000000</td>\n",
       "      <td>0.000000</td>\n",
       "      <td>10.095112</td>\n",
       "      <td>8.190224</td>\n",
       "    </tr>\n",
       "    <tr>\n",
       "      <th>1</th>\n",
       "      <td>1334420</td>\n",
       "      <td>31000US10100</td>\n",
       "      <td>POINT (-98.453806 45.440505)</td>\n",
       "      <td>osmpoints/amenity</td>\n",
       "      <td>6.334270</td>\n",
       "      <td>0.524081</td>\n",
       "      <td>0.110543</td>\n",
       "      <td>3</td>\n",
       "      <td>0.0</td>\n",
       "      <td>0.734973</td>\n",
       "      <td>2.347776</td>\n",
       "      <td>104.281704</td>\n",
       "      <td>81.563407</td>\n",
       "    </tr>\n",
       "    <tr>\n",
       "      <th>2</th>\n",
       "      <td>1334420</td>\n",
       "      <td>31000US10100</td>\n",
       "      <td>POINT (-98.453806 45.440505)</td>\n",
       "      <td>osmpoints/bar</td>\n",
       "      <td>0.164996</td>\n",
       "      <td>0.009370</td>\n",
       "      <td>0.000546</td>\n",
       "      <td>0</td>\n",
       "      <td>0.0</td>\n",
       "      <td>0.000000</td>\n",
       "      <td>0.000000</td>\n",
       "      <td>2.599338</td>\n",
       "      <td>2.198676</td>\n",
       "    </tr>\n",
       "    <tr>\n",
       "      <th>3</th>\n",
       "      <td>1334420</td>\n",
       "      <td>31000US10100</td>\n",
       "      <td>POINT (-98.453806 45.440505)</td>\n",
       "      <td>osmpoints/cafe</td>\n",
       "      <td>0.102979</td>\n",
       "      <td>0.005524</td>\n",
       "      <td>0.000307</td>\n",
       "      <td>0</td>\n",
       "      <td>0.0</td>\n",
       "      <td>0.000000</td>\n",
       "      <td>0.000000</td>\n",
       "      <td>1.713356</td>\n",
       "      <td>1.426711</td>\n",
       "    </tr>\n",
       "    <tr>\n",
       "      <th>4</th>\n",
       "      <td>1334420</td>\n",
       "      <td>31000US10100</td>\n",
       "      <td>POINT (-98.453806 45.440505)</td>\n",
       "      <td>osmpoints/casual</td>\n",
       "      <td>0.808071</td>\n",
       "      <td>0.041909</td>\n",
       "      <td>0.002317</td>\n",
       "      <td>0</td>\n",
       "      <td>0.0</td>\n",
       "      <td>0.000000</td>\n",
       "      <td>0.000000</td>\n",
       "      <td>14.191308</td>\n",
       "      <td>11.382616</td>\n",
       "    </tr>\n",
       "  </tbody>\n",
       "</table>\n",
       "</div>"
      ],
      "text/plain": [
       "       idx         geoid                      geometry              layer  \\\n",
       "0  1334420  31000US10100  POINT (-98.453806 45.440505)   osmpoints/active   \n",
       "1  1334420  31000US10100  POINT (-98.453806 45.440505)  osmpoints/amenity   \n",
       "2  1334420  31000US10100  POINT (-98.453806 45.440505)      osmpoints/bar   \n",
       "3  1334420  31000US10100  POINT (-98.453806 45.440505)     osmpoints/cafe   \n",
       "4  1334420  31000US10100  POINT (-98.453806 45.440505)   osmpoints/casual   \n",
       "\n",
       "    w_r_inv  w_r2_inv  w_r3_inv  w_circle4  w_lin_200  w_lin_800  w_lin_2000  \\\n",
       "0  0.622906  0.035156  0.002070          0        0.0   0.000000    0.000000   \n",
       "1  6.334270  0.524081  0.110543          3        0.0   0.734973    2.347776   \n",
       "2  0.164996  0.009370  0.000546          0        0.0   0.000000    0.000000   \n",
       "3  0.102979  0.005524  0.000307          0        0.0   0.000000    0.000000   \n",
       "4  0.808071  0.041909  0.002317          0        0.0   0.000000    0.000000   \n",
       "\n",
       "       w_half     w_zero  \n",
       "0   10.095112   8.190224  \n",
       "1  104.281704  81.563407  \n",
       "2    2.599338   2.198676  \n",
       "3    1.713356   1.426711  \n",
       "4   14.191308  11.382616  "
      ]
     },
     "execution_count": 4,
     "metadata": {},
     "output_type": "execute_result"
    }
   ],
   "source": [
    "df.head()"
   ]
  },
  {
   "cell_type": "code",
   "execution_count": 7,
   "metadata": {},
   "outputs": [
    {
     "data": {
      "text/plain": [
       "idx\n",
       "0          24\n",
       "1          24\n",
       "4          24\n",
       "5          23\n",
       "6          24\n",
       "           ..\n",
       "2249662    23\n",
       "2249663    25\n",
       "2249669    23\n",
       "2249689    24\n",
       "2249702    23\n",
       "Length: 497264, dtype: int64"
      ]
     },
     "execution_count": 7,
     "metadata": {},
     "output_type": "execute_result"
    }
   ],
   "source": [
    "df.groupby('idx').size()\n"
   ]
  },
  {
   "cell_type": "code",
   "execution_count": 1,
   "metadata": {},
   "outputs": [
    {
     "name": "stdout",
     "output_type": "stream",
     "text": [
      "/Volumes/External/data/radius-collection/civicknowledge.com-scores-demosearch/notebooks\n"
     ]
    }
   ],
   "source": [
    "!pwd"
   ]
  },
  {
   "cell_type": "code",
   "execution_count": null,
   "metadata": {},
   "outputs": [],
   "source": [
    "!ls "
   ]
  }
 ],
 "metadata": {
  "kernelspec": {
   "display_name": "Python 3",
   "language": "python",
   "name": "python3"
  },
  "language_info": {
   "codemirror_mode": {
    "name": "ipython",
    "version": 3
   },
   "file_extension": ".py",
   "mimetype": "text/x-python",
   "name": "python",
   "nbconvert_exporter": "python",
   "pygments_lexer": "ipython3",
   "version": "3.8.8"
  }
 },
 "nbformat": 4,
 "nbformat_minor": 4
}
