{
 "cells": [
  {
   "cell_type": "code",
   "execution_count": 1,
   "metadata": {},
   "outputs": [],
   "source": [
    "import seaborn as sns\n",
    "import metapack as mp\n",
    "import pandas as pd\n",
    "import numpy as np\n",
    "import matplotlib.pyplot as plt\n",
    "from IPython.display import display \n",
    "\n",
    "%matplotlib inline\n",
    "sns.set_context('notebook')\n",
    "mp.jupyter.init()\n"
   ]
  },
  {
   "cell_type": "code",
   "execution_count": 3,
   "metadata": {},
   "outputs": [
    {
     "data": {
      "text/html": [
       "<h1>Demosearch Score Sample</h1>\n",
       "<p><code>civicknowledge.com-scores-demosearch-1.1.1</code> Last Update: 2021-06-07T22:57:45</p>\n",
       "<p><em>A sample of scores for businesses across the US for the Demosearch application.</em></p>\n",
       "<h2>Contacts</h2>\n",
       "<ul>\n",
       "<li><strong>Wrangler</strong> <a href=\"mailto:eric@civicknowledge.com\">Eric Busboom</a>, <a href=\"http://civicknowledge.com\">Civic Knowledge</a></li>\n",
       "</ul>\n",
       "<h2>Resources</h2>\n",
       "<ul>\n",
       "<li><strong> <a href=\"data/scores.csv\">scores</a></strong>. Sampled scores.</li>\n",
       "</ul>\n",
       "<h2>References</h2>\n",
       "<ul><li> <strong>scorepoints</string>, <em>index:civicknowledge.com-scorepoints-demosearch#business_points</em>. 500K Business points</li><li> <strong>rings_scores</string>, <em>data/rings_scores.csv</em>. Sample scores, weighted sum and rings</li><ul>"
      ],
      "text/plain": [
       "# Demosearch Score Sample\n",
       "`civicknowledge.com-scores-demosearch-1.1.1` Last Update: 2021-06-07T22:57:45\n",
       "\n",
       "_A sample of scores for businesses across the US for the Demosearch application._\n",
       "\n",
       "\n",
       "\n",
       "\n",
       " \n",
       "\n",
       "## Contacts\n",
       "\n",
       "* **Wrangler** [Eric Busboom](mailto:eric@civicknowledge.com), [Civic Knowledge](http://civicknowledge.com)\n",
       "\n",
       "## Resources\n",
       "\n",
       "* ** [scores](data/scores.csv)**. Sampled scores.\n",
       "\n",
       "## References\n",
       "<ul><li> <strong>scorepoints</string>, <em>index:civicknowledge.com-scorepoints-demosearch#business_points</em>. 500K Business points</li><li> <strong>rings_scores</string>, <em>data/rings_scores.csv</em>. Sample scores, weighted sum and rings</li><ul>\n"
      ]
     },
     "execution_count": 3,
     "metadata": {},
     "output_type": "execute_result"
    }
   ],
   "source": [
    "pkg = mp.jupyter.open_package()\n",
    "#pkg = mp.jupyter.open_source_package()\n",
    "pkg"
   ]
  },
  {
   "cell_type": "code",
   "execution_count": 4,
   "metadata": {},
   "outputs": [],
   "source": [
    "df = pkg.resource('scores').dataframe()"
   ]
  },
  {
   "cell_type": "code",
   "execution_count": 5,
   "metadata": {},
   "outputs": [
    {
     "data": {
      "text/html": [
       "<div>\n",
       "<style scoped>\n",
       "    .dataframe tbody tr th:only-of-type {\n",
       "        vertical-align: middle;\n",
       "    }\n",
       "\n",
       "    .dataframe tbody tr th {\n",
       "        vertical-align: top;\n",
       "    }\n",
       "\n",
       "    .dataframe thead th {\n",
       "        text-align: right;\n",
       "    }\n",
       "</style>\n",
       "<table border=\"1\" class=\"dataframe\">\n",
       "  <thead>\n",
       "    <tr style=\"text-align: right;\">\n",
       "      <th></th>\n",
       "      <th>idx</th>\n",
       "      <th>geoid</th>\n",
       "      <th>geometry</th>\n",
       "      <th>tracts_pop_poverty</th>\n",
       "      <th>tracts_pop_seniors</th>\n",
       "    </tr>\n",
       "  </thead>\n",
       "  <tbody>\n",
       "    <tr>\n",
       "      <th>0</th>\n",
       "      <td>0</td>\n",
       "      <td>31000US37980</td>\n",
       "      <td>POINT (-75.63616 39.64623)</td>\n",
       "      <td>3055.649064</td>\n",
       "      <td>3575.381869</td>\n",
       "    </tr>\n",
       "    <tr>\n",
       "      <th>1</th>\n",
       "      <td>1</td>\n",
       "      <td>31000US37980</td>\n",
       "      <td>POINT (-75.75936799999999 39.63028)</td>\n",
       "      <td>4440.285702</td>\n",
       "      <td>4121.757185</td>\n",
       "    </tr>\n",
       "    <tr>\n",
       "      <th>2</th>\n",
       "      <td>4</td>\n",
       "      <td>31000US37980</td>\n",
       "      <td>POINT (-75.713504 39.73)</td>\n",
       "      <td>2382.862322</td>\n",
       "      <td>3559.696264</td>\n",
       "    </tr>\n",
       "    <tr>\n",
       "      <th>3</th>\n",
       "      <td>5</td>\n",
       "      <td>31000US37980</td>\n",
       "      <td>POINT (-75.693276 39.689875)</td>\n",
       "      <td>3639.216472</td>\n",
       "      <td>4032.535599</td>\n",
       "    </tr>\n",
       "    <tr>\n",
       "      <th>4</th>\n",
       "      <td>6</td>\n",
       "      <td>31000US37980</td>\n",
       "      <td>POINT (-75.70446099999999 39.659662)</td>\n",
       "      <td>2892.196363</td>\n",
       "      <td>3678.690165</td>\n",
       "    </tr>\n",
       "  </tbody>\n",
       "</table>\n",
       "</div>"
      ],
      "text/plain": [
       "   idx         geoid                              geometry  \\\n",
       "0    0  31000US37980            POINT (-75.63616 39.64623)   \n",
       "1    1  31000US37980   POINT (-75.75936799999999 39.63028)   \n",
       "2    4  31000US37980              POINT (-75.713504 39.73)   \n",
       "3    5  31000US37980          POINT (-75.693276 39.689875)   \n",
       "4    6  31000US37980  POINT (-75.70446099999999 39.659662)   \n",
       "\n",
       "   tracts_pop_poverty  tracts_pop_seniors  \n",
       "0         3055.649064         3575.381869  \n",
       "1         4440.285702         4121.757185  \n",
       "2         2382.862322         3559.696264  \n",
       "3         3639.216472         4032.535599  \n",
       "4         2892.196363         3678.690165  "
      ]
     },
     "execution_count": 5,
     "metadata": {},
     "output_type": "execute_result"
    }
   ],
   "source": [
    "df.head()"
   ]
  },
  {
   "cell_type": "code",
   "execution_count": 7,
   "metadata": {},
   "outputs": [
    {
     "data": {
      "text/html": [
       "<div>\n",
       "<style scoped>\n",
       "    .dataframe tbody tr th:only-of-type {\n",
       "        vertical-align: middle;\n",
       "    }\n",
       "\n",
       "    .dataframe tbody tr th {\n",
       "        vertical-align: top;\n",
       "    }\n",
       "\n",
       "    .dataframe thead th {\n",
       "        text-align: right;\n",
       "    }\n",
       "</style>\n",
       "<table border=\"1\" class=\"dataframe\">\n",
       "  <thead>\n",
       "    <tr style=\"text-align: right;\">\n",
       "      <th>layer</th>\n",
       "      <th>idx</th>\n",
       "      <th>geoid</th>\n",
       "      <th>geometry</th>\n",
       "      <th>tracts/pop/poverty</th>\n",
       "      <th>tracts/pop/seniors</th>\n",
       "    </tr>\n",
       "  </thead>\n",
       "  <tbody>\n",
       "    <tr>\n",
       "      <th>0</th>\n",
       "      <td>0</td>\n",
       "      <td>31000US37980</td>\n",
       "      <td>POINT (-75.63616 39.64623)</td>\n",
       "      <td>3055.649064</td>\n",
       "      <td>3575.381869</td>\n",
       "    </tr>\n",
       "    <tr>\n",
       "      <th>1</th>\n",
       "      <td>1</td>\n",
       "      <td>31000US37980</td>\n",
       "      <td>POINT (-75.75936799999999 39.63028)</td>\n",
       "      <td>4440.285702</td>\n",
       "      <td>4121.757185</td>\n",
       "    </tr>\n",
       "    <tr>\n",
       "      <th>2</th>\n",
       "      <td>4</td>\n",
       "      <td>31000US37980</td>\n",
       "      <td>POINT (-75.713504 39.73)</td>\n",
       "      <td>2382.862322</td>\n",
       "      <td>3559.696264</td>\n",
       "    </tr>\n",
       "    <tr>\n",
       "      <th>3</th>\n",
       "      <td>5</td>\n",
       "      <td>31000US37980</td>\n",
       "      <td>POINT (-75.693276 39.689875)</td>\n",
       "      <td>3639.216472</td>\n",
       "      <td>4032.535599</td>\n",
       "    </tr>\n",
       "    <tr>\n",
       "      <th>4</th>\n",
       "      <td>6</td>\n",
       "      <td>31000US37980</td>\n",
       "      <td>POINT (-75.70446099999999 39.659662)</td>\n",
       "      <td>2892.196363</td>\n",
       "      <td>3678.690165</td>\n",
       "    </tr>\n",
       "  </tbody>\n",
       "</table>\n",
       "</div>"
      ],
      "text/plain": [
       "layer  idx         geoid                              geometry  \\\n",
       "0        0  31000US37980            POINT (-75.63616 39.64623)   \n",
       "1        1  31000US37980   POINT (-75.75936799999999 39.63028)   \n",
       "2        4  31000US37980              POINT (-75.713504 39.73)   \n",
       "3        5  31000US37980          POINT (-75.693276 39.689875)   \n",
       "4        6  31000US37980  POINT (-75.70446099999999 39.659662)   \n",
       "\n",
       "layer  tracts/pop/poverty  tracts/pop/seniors  \n",
       "0             3055.649064         3575.381869  \n",
       "1             4440.285702         4121.757185  \n",
       "2             2382.862322         3559.696264  \n",
       "3             3639.216472         4032.535599  \n",
       "4             2892.196363         3678.690165  "
      ]
     },
     "execution_count": 7,
     "metadata": {},
     "output_type": "execute_result"
    }
   ],
   "source": [
    "t = df[['idx','geoid','geometry','layer','score']].set_index(['idx','geoid','geometry','layer']).unstack()\n",
    "scores = t.droplevel(0, axis=1).reset_index()\n",
    "scores.head()\n"
   ]
  },
  {
   "cell_type": "code",
   "execution_count": 1,
   "metadata": {},
   "outputs": [
    {
     "name": "stdout",
     "output_type": "stream",
     "text": [
      "/Volumes/External/data/radius-collection/civicknowledge.com-scores-demosearch/notebooks\n"
     ]
    }
   ],
   "source": [
    "!pwd"
   ]
  },
  {
   "cell_type": "code",
   "execution_count": null,
   "metadata": {},
   "outputs": [],
   "source": [
    "!ls "
   ]
  }
 ],
 "metadata": {
  "kernelspec": {
   "display_name": "Python 3",
   "language": "python",
   "name": "python3"
  },
  "language_info": {
   "codemirror_mode": {
    "name": "ipython",
    "version": 3
   },
   "file_extension": ".py",
   "mimetype": "text/x-python",
   "name": "python",
   "nbconvert_exporter": "python",
   "pygments_lexer": "ipython3",
   "version": "3.8.8"
  }
 },
 "nbformat": 4,
 "nbformat_minor": 4
}
