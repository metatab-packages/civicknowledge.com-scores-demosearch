{
 "cells": [
  {
   "cell_type": "markdown",
   "metadata": {},
   "source": [
    "# Note!\n",
    "\n",
    "This notebook does minor processing on the rings_scores file, which is produced by the \n",
    "task ``invoke build`` . That task must be run first, and it can take a while.\n"
   ]
  },
  {
   "cell_type": "code",
   "execution_count": 1,
   "metadata": {},
   "outputs": [],
   "source": [
    "import seaborn as sns\n",
    "import metapack as mp\n",
    "import pandas as pd\n",
    "import numpy as np\n",
    "import matplotlib.pyplot as plt\n",
    "from IPython.display import display \n",
    "\n",
    "%matplotlib inline\n",
    "sns.set_context('notebook')\n",
    "mp.jupyter.init()\n"
   ]
  },
  {
   "cell_type": "code",
   "execution_count": 2,
   "metadata": {},
   "outputs": [
    {
     "data": {
      "text/html": [
       "<h1>Demosearch Score Sample</h1>\n",
       "<p><code>civicknowledge.com-scores-demosearch-1.1.4</code> Last Update: 2021-06-11T17:01:29</p>\n",
       "<p><em>A sample of scores for businesses across the US for the Demosearch application.</em></p>\n",
       "<h2>Contacts</h2>\n",
       "<ul>\n",
       "<li><strong>Wrangler</strong> <a href=\"mailto:eric@civicknowledge.com\">Eric Busboom</a>, <a href=\"http://civicknowledge.com\">Civic Knowledge</a></li>\n",
       "</ul>\n",
       "<h2>Resources</h2>\n",
       "<ul>\n",
       "<li><strong> <a href=\"notebooks/build.ipynb#scores\">scores</a></strong>. Sampled scores.</li>\n",
       "</ul>\n",
       "<h2>References</h2>\n",
       "<ul><li> <strong>scorepoints</string>, <em>metapack+http://radius.civicknowledge.com.s3.amazonaws.com/civicknowledge.com-scorepoints-demosearch.csv#business_points</em>. 500K Business points</li><li> <strong>rings_scores</string>, <em>data/rings_scores.csv</em>. Sample scores, weighted sum and rings</li><ul>"
      ],
      "text/plain": [
       "# Demosearch Score Sample\n",
       "`civicknowledge.com-scores-demosearch-1.1.4` Last Update: 2021-06-11T17:01:29\n",
       "\n",
       "_A sample of scores for businesses across the US for the Demosearch application._\n",
       "\n",
       "\n",
       "\n",
       "\n",
       " \n",
       "\n",
       "## Contacts\n",
       "\n",
       "* **Wrangler** [Eric Busboom](mailto:eric@civicknowledge.com), [Civic Knowledge](http://civicknowledge.com)\n",
       "\n",
       "## Resources\n",
       "\n",
       "* ** [scores](notebooks/build.ipynb#scores)**. Sampled scores.\n",
       "\n",
       "## References\n",
       "<ul><li> <strong>scorepoints</string>, <em>metapack+http://radius.civicknowledge.com.s3.amazonaws.com/civicknowledge.com-scorepoints-demosearch.csv#business_points</em>. 500K Business points</li><li> <strong>rings_scores</string>, <em>data/rings_scores.csv</em>. Sample scores, weighted sum and rings</li><ul>\n"
      ]
     },
     "execution_count": 2,
     "metadata": {},
     "output_type": "execute_result"
    }
   ],
   "source": [
    "#pkg = mp.jupyter.open_package()\n",
    "pkg = mp.jupyter.open_source_package()\n",
    "pkg"
   ]
  },
  {
   "cell_type": "code",
   "execution_count": 3,
   "metadata": {},
   "outputs": [],
   "source": [
    "df_rs = pkg.reference('rings_scores').dataframe()"
   ]
  },
  {
   "cell_type": "code",
   "execution_count": 4,
   "metadata": {},
   "outputs": [],
   "source": [
    "\n",
    "n = list(df_rs.columns).index('ring_1')\n",
    "rings = df_rs.iloc[:, n:]\n",
    "scores = df_rs[['idx','geoid','geometry','layer']].copy()\n"
   ]
  },
  {
   "cell_type": "code",
   "execution_count": 5,
   "metadata": {},
   "outputs": [
    {
     "data": {
      "text/html": [
       "<div>\n",
       "<style scoped>\n",
       "    .dataframe tbody tr th:only-of-type {\n",
       "        vertical-align: middle;\n",
       "    }\n",
       "\n",
       "    .dataframe tbody tr th {\n",
       "        vertical-align: top;\n",
       "    }\n",
       "\n",
       "    .dataframe thead th {\n",
       "        text-align: right;\n",
       "    }\n",
       "</style>\n",
       "<table border=\"1\" class=\"dataframe\">\n",
       "  <thead>\n",
       "    <tr style=\"text-align: right;\">\n",
       "      <th></th>\n",
       "      <th>lower</th>\n",
       "      <th>upper</th>\n",
       "      <th>width</th>\n",
       "      <th>area</th>\n",
       "      <th>mean_r</th>\n",
       "      <th>a_frac</th>\n",
       "      <th>w_r_inv</th>\n",
       "      <th>w_r2_inv</th>\n",
       "      <th>w_r3_inv</th>\n",
       "      <th>w_circle4</th>\n",
       "      <th>w_lin_200</th>\n",
       "      <th>w_lin_800</th>\n",
       "      <th>w_lin_2000</th>\n",
       "      <th>w_half</th>\n",
       "      <th>w_zero</th>\n",
       "      <th>b_walk</th>\n",
       "      <th>b_drive</th>\n",
       "      <th>b_m135</th>\n",
       "    </tr>\n",
       "    <tr>\n",
       "      <th>ring</th>\n",
       "      <th></th>\n",
       "      <th></th>\n",
       "      <th></th>\n",
       "      <th></th>\n",
       "      <th></th>\n",
       "      <th></th>\n",
       "      <th></th>\n",
       "      <th></th>\n",
       "      <th></th>\n",
       "      <th></th>\n",
       "      <th></th>\n",
       "      <th></th>\n",
       "      <th></th>\n",
       "      <th></th>\n",
       "      <th></th>\n",
       "      <th></th>\n",
       "      <th></th>\n",
       "      <th></th>\n",
       "    </tr>\n",
       "  </thead>\n",
       "  <tbody>\n",
       "    <tr>\n",
       "      <th>1</th>\n",
       "      <td>0</td>\n",
       "      <td>200</td>\n",
       "      <td>200</td>\n",
       "      <td>1.256637e+05</td>\n",
       "      <td>141.421356</td>\n",
       "      <td>0.000400</td>\n",
       "      <td>1.000000</td>\n",
       "      <td>1.000000</td>\n",
       "      <td>1.000000</td>\n",
       "      <td>1</td>\n",
       "      <td>0.296411</td>\n",
       "      <td>1.000000</td>\n",
       "      <td>0.929325</td>\n",
       "      <td>0.992929</td>\n",
       "      <td>0.985858</td>\n",
       "      <td>0</td>\n",
       "      <td>0</td>\n",
       "      <td>0</td>\n",
       "    </tr>\n",
       "    <tr>\n",
       "      <th>2</th>\n",
       "      <td>200</td>\n",
       "      <td>400</td>\n",
       "      <td>200</td>\n",
       "      <td>3.769911e+05</td>\n",
       "      <td>316.227766</td>\n",
       "      <td>0.001200</td>\n",
       "      <td>0.447214</td>\n",
       "      <td>0.200000</td>\n",
       "      <td>0.089443</td>\n",
       "      <td>1</td>\n",
       "      <td>0.000000</td>\n",
       "      <td>0.734973</td>\n",
       "      <td>0.841965</td>\n",
       "      <td>0.984189</td>\n",
       "      <td>0.968377</td>\n",
       "      <td>1</td>\n",
       "      <td>0</td>\n",
       "      <td>0</td>\n",
       "    </tr>\n",
       "    <tr>\n",
       "      <th>3</th>\n",
       "      <td>400</td>\n",
       "      <td>800</td>\n",
       "      <td>400</td>\n",
       "      <td>1.507964e+06</td>\n",
       "      <td>632.455532</td>\n",
       "      <td>0.004800</td>\n",
       "      <td>0.223607</td>\n",
       "      <td>0.050000</td>\n",
       "      <td>0.011180</td>\n",
       "      <td>1</td>\n",
       "      <td>0.000000</td>\n",
       "      <td>0.255534</td>\n",
       "      <td>0.683930</td>\n",
       "      <td>0.968377</td>\n",
       "      <td>0.936754</td>\n",
       "      <td>2</td>\n",
       "      <td>0</td>\n",
       "      <td>0</td>\n",
       "    </tr>\n",
       "    <tr>\n",
       "      <th>4</th>\n",
       "      <td>800</td>\n",
       "      <td>1260</td>\n",
       "      <td>460</td>\n",
       "      <td>2.976973e+06</td>\n",
       "      <td>1055.367235</td>\n",
       "      <td>0.009476</td>\n",
       "      <td>0.134002</td>\n",
       "      <td>0.017957</td>\n",
       "      <td>0.002406</td>\n",
       "      <td>1</td>\n",
       "      <td>0.000000</td>\n",
       "      <td>0.000000</td>\n",
       "      <td>0.472580</td>\n",
       "      <td>0.947232</td>\n",
       "      <td>0.894463</td>\n",
       "      <td>3</td>\n",
       "      <td>1</td>\n",
       "      <td>0</td>\n",
       "    </tr>\n",
       "    <tr>\n",
       "      <th>5</th>\n",
       "      <td>1260</td>\n",
       "      <td>1600</td>\n",
       "      <td>340</td>\n",
       "      <td>3.054885e+06</td>\n",
       "      <td>1440.069443</td>\n",
       "      <td>0.009724</td>\n",
       "      <td>0.098205</td>\n",
       "      <td>0.009644</td>\n",
       "      <td>0.000947</td>\n",
       "      <td>0</td>\n",
       "      <td>0.000000</td>\n",
       "      <td>0.000000</td>\n",
       "      <td>0.280325</td>\n",
       "      <td>0.927997</td>\n",
       "      <td>0.855993</td>\n",
       "      <td>-1</td>\n",
       "      <td>1</td>\n",
       "      <td>0</td>\n",
       "    </tr>\n",
       "  </tbody>\n",
       "</table>\n",
       "</div>"
      ],
      "text/plain": [
       "      lower  upper  width          area       mean_r    a_frac   w_r_inv  \\\n",
       "ring                                                                       \n",
       "1         0    200    200  1.256637e+05   141.421356  0.000400  1.000000   \n",
       "2       200    400    200  3.769911e+05   316.227766  0.001200  0.447214   \n",
       "3       400    800    400  1.507964e+06   632.455532  0.004800  0.223607   \n",
       "4       800   1260    460  2.976973e+06  1055.367235  0.009476  0.134002   \n",
       "5      1260   1600    340  3.054885e+06  1440.069443  0.009724  0.098205   \n",
       "\n",
       "      w_r2_inv  w_r3_inv  w_circle4  w_lin_200  w_lin_800  w_lin_2000  \\\n",
       "ring                                                                    \n",
       "1     1.000000  1.000000          1   0.296411   1.000000    0.929325   \n",
       "2     0.200000  0.089443          1   0.000000   0.734973    0.841965   \n",
       "3     0.050000  0.011180          1   0.000000   0.255534    0.683930   \n",
       "4     0.017957  0.002406          1   0.000000   0.000000    0.472580   \n",
       "5     0.009644  0.000947          0   0.000000   0.000000    0.280325   \n",
       "\n",
       "        w_half    w_zero  b_walk  b_drive  b_m135  \n",
       "ring                                               \n",
       "1     0.992929  0.985858       0        0       0  \n",
       "2     0.984189  0.968377       1        0       0  \n",
       "3     0.968377  0.936754       2        0       0  \n",
       "4     0.947232  0.894463       3        1       0  \n",
       "5     0.927997  0.855993      -1        1       0  "
      ]
     },
     "execution_count": 5,
     "metadata": {},
     "output_type": "execute_result"
    }
   ],
   "source": [
    "from demosearch.kernel import ragged_breaks\n",
    "kernel_df = ragged_breaks()\n",
    "kernel_df.head()"
   ]
  },
  {
   "cell_type": "code",
   "execution_count": 6,
   "metadata": {},
   "outputs": [],
   "source": [
    "for weight_name in [c for c in kernel_df.columns if c.startswith('w_')]:\n",
    "\n",
    "    k = kernel_df[weight_name].T\n",
    "    scores[weight_name] = np.sum(rings.values * k.values, axis=1)\n",
    "    "
   ]
  },
  {
   "cell_type": "code",
   "execution_count": 12,
   "metadata": {},
   "outputs": [
    {
     "data": {
      "text/plain": [
       "18047      12\n",
       "68727      12\n",
       "41954      12\n",
       "38607      12\n",
       "12425      12\n",
       "           ..\n",
       "1857494    24\n",
       "908232     24\n",
       "1871292    24\n",
       "1957275    24\n",
       "2143738    24\n",
       "Name: idx, Length: 497264, dtype: int64"
      ]
     },
     "execution_count": 12,
     "metadata": {},
     "output_type": "execute_result"
    }
   ],
   "source": [
    "scores.idx.value_counts().sort_values()"
   ]
  },
  {
   "cell_type": "code",
   "execution_count": 8,
   "metadata": {},
   "outputs": [
    {
     "data": {
      "text/plain": [
       "<AxesSubplot:>"
      ]
     },
     "execution_count": 8,
     "metadata": {},
     "output_type": "execute_result"
    },
    {
     "data": {
      "image/png": "[encoded data removed]",
      "text/plain": [
       "<Figure size 432x288 with 1 Axes>"
      ]
     },
     "metadata": {
      "needs_background": "light"
     },
     "output_type": "display_data"
    }
   ],
   "source": [
    "scores[scores.layer == 'tracts/pop/total_population'].w_circle4.hist()"
   ]
  },
  {
   "cell_type": "code",
   "execution_count": 15,
   "metadata": {},
   "outputs": [
    {
     "data": {
      "text/plain": [
       "array(['osmpoints/active', 'osmpoints/amenity', 'osmpoints/bar',\n",
       "       'osmpoints/cafe', 'osmpoints/casual', 'osmpoints/entertain',\n",
       "       'osmpoints/food', 'osmpoints/playpark', 'osmpoints/restaurant',\n",
       "       'osmpoints/travel', 'roads/tertiary', 'tracts/hh/households',\n",
       "       'tracts/hh/households_cohabiting', 'tracts/hh/households_unmaried',\n",
       "       'tracts/hh/housing_occupied', 'tracts/hh/housing_owned',\n",
       "       'tracts/hh/housing_rented_college', 'tracts/pop/agg_income',\n",
       "       'tracts/pop/commute_25gte', 'tracts/pop/commute_25lt',\n",
       "       'tracts/pop/manufacturing_ocupations',\n",
       "       'tracts/pop/population_18lt', 'tracts/pop/seniors',\n",
       "       'tracts/pop/total_population'], dtype=object)"
      ]
     },
     "execution_count": 15,
     "metadata": {},
     "output_type": "execute_result"
    }
   ],
   "source": [
    "scores[scores.idx == 1857494].layer.unique()"
   ]
  },
  {
   "cell_type": "code",
   "execution_count": 16,
   "metadata": {},
   "outputs": [
    {
     "data": {
      "text/plain": [
       "array(['osmpoints/amenity', 'osmpoints/casual', 'osmpoints/food',\n",
       "       'osmpoints/playpark', 'osmpoints/shop', 'roads/primary',\n",
       "       'tracts/hh/housing_occupied', 'tracts/hh/housing_owned',\n",
       "       'tracts/pop/commute_25gte', 'tracts/pop/commute_25lt',\n",
       "       'tracts/pop/manufacturing_ocupations',\n",
       "       'tracts/pop/total_population'], dtype=object)"
      ]
     },
     "execution_count": 16,
     "metadata": {},
     "output_type": "execute_result"
    }
   ],
   "source": [
    "scores[scores.idx == 18047].layer.unique()"
   ]
  },
  {
   "cell_type": "code",
   "execution_count": null,
   "metadata": {},
   "outputs": [],
   "source": []
  }
 ],
 "metadata": {
  "kernelspec": {
   "display_name": "Python 3",
   "language": "python",
   "name": "python3"
  },
  "language_info": {
   "codemirror_mode": {
    "name": "ipython",
    "version": 3
   },
   "file_extension": ".py",
   "mimetype": "text/x-python",
   "name": "python",
   "nbconvert_exporter": "python",
   "pygments_lexer": "ipython3",
   "version": "3.8.8"
  }
 },
 "nbformat": 4,
 "nbformat_minor": 4
}
